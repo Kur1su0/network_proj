{
 "cells": [
  {
   "cell_type": "code",
   "execution_count": 13,
   "id": "04201aa6",
   "metadata": {},
   "outputs": [],
   "source": [
    "from sklearn.ensemble import RandomForestClassifier as RF\n",
    "from sklearn.model_selection import train_test_split\n",
    "import pandas as pd\n",
    "import numpy as np"
   ]
  },
  {
   "cell_type": "code",
   "execution_count": 11,
   "id": "773e019a",
   "metadata": {},
   "outputs": [
    {
     "name": "stdout",
     "output_type": "stream",
     "text": [
      "0.9712041884816754\n"
     ]
    }
   ],
   "source": [
    "label_set = pd.read_csv(\"data/data/subtrainLabels.csv\")\n",
    "gram_set = pd.read_csv(\"data/3gramfeature.csv\")\n",
    "df = pd.merge(label_set,gram_set,on='Id')\n",
    "gram_labels = df.Class\n",
    "df.drop([\"Class\",\"Id\"], axis=1, inplace=True)\n",
    "df = df.to_numpy()\n",
    "\n",
    "x_train, x_test, y_train, y_test = train_test_split(df,gram_labels,test_size=0.35)\n",
    "\n",
    "model = RF(n_estimators=650, n_jobs=-1)\n",
    "model.fit(x_train,y_train)\n",
    "\n",
    "print(model.score(x_test,y_test))"
   ]
  },
  {
   "cell_type": "code",
   "execution_count": 15,
   "id": "d1aae6ce",
   "metadata": {},
   "outputs": [
    {
     "name": "stdout",
     "output_type": "stream",
     "text": [
      "Feature ranking:\n",
      "1. feature 1105 (0.008577)\n",
      "2. feature 6432 (0.007061)\n",
      "3. feature 4729 (0.006862)\n",
      "4. feature 4034 (0.006778)\n",
      "5. feature 4000 (0.006452)\n",
      "6. feature 8526 (0.005970)\n",
      "7. feature 1100 (0.005959)\n",
      "8. feature 3623 (0.005396)\n",
      "9. feature 3968 (0.005014)\n",
      "10. feature 3999 (0.004947)\n"
     ]
    }
   ],
   "source": [
    "importances = model.feature_importances_\n",
    "std = np.std([tree.feature_importances_ for tree in model.estimators_],axis=0)\n",
    "indices = np.argsort(importances)[::-1]\n",
    "print(\"Features ranking:\")\n",
    "for f in range(10):\n",
    "    print(\"%d. feature %d (%f)\" % (f + 1, indices[f], importances[indices[f]]))"
   ]
  },
  {
   "cell_type": "code",
   "execution_count": null,
   "id": "00f5a15c",
   "metadata": {},
   "outputs": [],
   "source": []
  }
 ],
 "metadata": {
  "kernelspec": {
   "display_name": "Python 3",
   "language": "python",
   "name": "python3"
  },
  "language_info": {
   "codemirror_mode": {
    "name": "ipython",
    "version": 3
   },
   "file_extension": ".py",
   "mimetype": "text/x-python",
   "name": "python",
   "nbconvert_exporter": "python",
   "pygments_lexer": "ipython3",
   "version": "3.7.7"
  }
 },
 "nbformat": 4,
 "nbformat_minor": 5
}
