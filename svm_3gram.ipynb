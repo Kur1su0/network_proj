{
 "cells": [
  {
   "cell_type": "code",
   "execution_count": 1,
   "id": "04201aa6",
   "metadata": {},
   "outputs": [],
   "source": [
    "from sklearn import svm\n",
    "from sklearn.model_selection import train_test_split\n",
    "import pandas as pd\n",
    "import numpy as np"
   ]
  },
  {
   "cell_type": "code",
   "execution_count": 8,
   "id": "773e019a",
   "metadata": {},
   "outputs": [
    {
     "name": "stdout",
     "output_type": "stream",
     "text": [
      "0.948170731707317\n"
     ]
    }
   ],
   "source": [
    "label_set = pd.read_csv(\"data/data/subtrainLabels.csv\")\n",
    "gram_set = pd.read_csv(\"data/3gramfeature.csv\")\n",
    "df = pd.merge(label_set,gram_set,on='Id')\n",
    "gram_labels = df.Class\n",
    "df.drop([\"Class\",\"Id\"], axis=1, inplace=True)\n",
    "df = df.to_numpy()\n",
    "\n",
    "x_train, x_test, y_train, y_test = train_test_split(df,gram_labels,test_size=0.3)\n",
    "\n",
    "model = svm.SVC(kernel='linear', C = 0.7)\n",
    "model.fit(x_train,y_train)\n",
    "\n",
    "print(model.score(x_test,y_test))"
   ]
  }
 ],
 "metadata": {
  "kernelspec": {
   "display_name": "Python 3",
   "language": "python",
   "name": "python3"
  },
  "language_info": {
   "codemirror_mode": {
    "name": "ipython",
    "version": 3
   },
   "file_extension": ".py",
   "mimetype": "text/x-python",
   "name": "python",
   "nbconvert_exporter": "python",
   "pygments_lexer": "ipython3",
   "version": "3.7.7"
  }
 },
 "nbformat": 4,
 "nbformat_minor": 5
}
